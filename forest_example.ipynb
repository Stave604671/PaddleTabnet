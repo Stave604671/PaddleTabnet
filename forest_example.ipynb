{
 "cells": [
  {
   "cell_type": "code",
   "execution_count": 1,
   "metadata": {},
   "outputs": [],
   "source": [
    "from pytorch_tabnet.tab_model import TabNetClassifier\n",
    "import torch\n",
    "from sklearn.preprocessing import LabelEncoder\n",
    "from sklearn.metrics import accuracy_score\n",
    "from sklearn.model_selection import train_test_split\n",
    "import pandas as pd\n",
    "import numpy as np\n",
    "np.random.seed(0)\n",
    "import os\n",
    "import wget\n",
    "from pathlib import Path\n",
    "import shutil\n",
    "import gzip\n",
    "\n",
    "from matplotlib import pyplot as plt\n",
    "%matplotlib inline"
   ]
  },
  {
   "cell_type": "markdown",
   "metadata": {},
   "source": [
    "# Download ForestCoverType dataset"
   ]
  },
  {
   "cell_type": "code",
   "execution_count": 2,
   "metadata": {},
   "outputs": [],
   "source": [
    "url = \"https://archive.ics.uci.edu/ml/machine-learning-databases/covtype/covtype.data.gz\"\n",
    "dataset_name = 'forest-cover-type'\n",
    "tmp_out = Path('./data/'+dataset_name+'.gz')\n",
    "out = Path(os.getcwd()+'/data/'+dataset_name+'.csv')"
   ]
  },
  {
   "cell_type": "code",
   "execution_count": 3,
   "metadata": {},
   "outputs": [
    {
     "name": "stdout",
     "output_type": "stream",
     "text": [
      "File already exists.\n"
     ]
    }
   ],
   "source": [
    "out.parent.mkdir(parents=True, exist_ok=True)\n",
    "if out.exists():\n",
    "    print(\"File already exists.\")\n",
    "else:\n",
    "    print(\"Downloading file...\")\n",
    "    wget.download(url, tmp_out.as_posix())\n",
    "    with gzip.open(tmp_out, 'rb') as f_in:\n",
    "        with open(out, 'wb') as f_out:\n",
    "            shutil.copyfileobj(f_in, f_out)\n",
    "    \n"
   ]
  },
  {
   "cell_type": "markdown",
   "metadata": {},
   "source": [
    "# Load data and split\n",
    "Same split as in original paper"
   ]
  },
  {
   "cell_type": "code",
   "execution_count": 4,
   "metadata": {},
   "outputs": [],
   "source": [
    "target = \"Covertype\"\n",
    "\n",
    "bool_columns = [\n",
    "    \"Wilderness_Area1\", \"Wilderness_Area2\", \"Wilderness_Area3\",\n",
    "    \"Wilderness_Area4\", \"Soil_Type1\", \"Soil_Type2\", \"Soil_Type3\", \"Soil_Type4\",\n",
    "    \"Soil_Type5\", \"Soil_Type6\", \"Soil_Type7\", \"Soil_Type8\", \"Soil_Type9\",\n",
    "    \"Soil_Type10\", \"Soil_Type11\", \"Soil_Type12\", \"Soil_Type13\", \"Soil_Type14\",\n",
    "    \"Soil_Type15\", \"Soil_Type16\", \"Soil_Type17\", \"Soil_Type18\", \"Soil_Type19\",\n",
    "    \"Soil_Type20\", \"Soil_Type21\", \"Soil_Type22\", \"Soil_Type23\", \"Soil_Type24\",\n",
    "    \"Soil_Type25\", \"Soil_Type26\", \"Soil_Type27\", \"Soil_Type28\", \"Soil_Type29\",\n",
    "    \"Soil_Type30\", \"Soil_Type31\", \"Soil_Type32\", \"Soil_Type33\", \"Soil_Type34\",\n",
    "    \"Soil_Type35\", \"Soil_Type36\", \"Soil_Type37\", \"Soil_Type38\", \"Soil_Type39\",\n",
    "    \"Soil_Type40\"\n",
    "]\n",
    "\n",
    "int_columns = [\n",
    "    \"Elevation\", \"Aspect\", \"Slope\", \"Horizontal_Distance_To_Hydrology\",\n",
    "    \"Vertical_Distance_To_Hydrology\", \"Horizontal_Distance_To_Roadways\",\n",
    "    \"Hillshade_9am\", \"Hillshade_Noon\", \"Hillshade_3pm\",\n",
    "    \"Horizontal_Distance_To_Fire_Points\"\n",
    "]\n",
    "\n",
    "feature_columns = (\n",
    "    int_columns + bool_columns + [target])\n"
   ]
  },
  {
   "cell_type": "code",
   "execution_count": 5,
   "metadata": {},
   "outputs": [],
   "source": [
    "train = pd.read_csv(out, header=None, names=feature_columns)\n",
    "\n",
    "n_total = len(train)\n",
    "\n",
    "# Train, val and test split follows\n",
    "# Rory Mitchell, Andrey Adinets, Thejaswi Rao, and Eibe Frank.\n",
    "# Xgboost: Scalable GPU accelerated learning. arXiv:1806.11248, 2018.\n",
    "\n",
    "train_val_indices, test_indices = train_test_split(\n",
    "    range(n_total), test_size=0.2, random_state=0)\n",
    "train_indices, valid_indices = train_test_split(\n",
    "    train_val_indices, test_size=0.2 / 0.6, random_state=0)\n"
   ]
  },
  {
   "cell_type": "markdown",
   "metadata": {},
   "source": [
    "# Simple preprocessing\n",
    "\n",
    "Label encode categorical features and fill empty cells."
   ]
  },
  {
   "cell_type": "code",
   "execution_count": 6,
   "metadata": {},
   "outputs": [],
   "source": [
    "categorical_columns = []\n",
    "categorical_dims =  {}\n",
    "for col in train.columns[train.dtypes == object]:\n",
    "    print(col, train[col].nunique())\n",
    "    l_enc = LabelEncoder()\n",
    "    train[col] = train[col].fillna(\"VV_likely\")\n",
    "    train[col] = l_enc.fit_transform(train[col].values)\n",
    "    categorical_columns.append(col)\n",
    "    categorical_dims[col] = len(l_enc.classes_)\n",
    "\n",
    "for col in train.columns[train.dtypes == 'float64']:\n",
    "    train.fillna(train.loc[train_indices, col].mean(), inplace=True)"
   ]
  },
  {
   "cell_type": "markdown",
   "metadata": {},
   "source": [
    "# Define categorical features for categorical embeddings"
   ]
  },
  {
   "cell_type": "code",
   "execution_count": 7,
   "metadata": {},
   "outputs": [],
   "source": [
    "unused_feat = []\n",
    "\n",
    "features = [ col for col in train.columns if col not in unused_feat+[target]] \n",
    "\n",
    "cat_idxs = [ i for i, f in enumerate(features) if f in categorical_columns]\n",
    "\n",
    "cat_dims = [ categorical_dims[f] for i, f in enumerate(features) if f in categorical_columns]\n"
   ]
  },
  {
   "cell_type": "markdown",
   "metadata": {},
   "source": [
    "# Network parameters"
   ]
  },
  {
   "cell_type": "code",
   "execution_count": 8,
   "metadata": {},
   "outputs": [
    {
     "name": "stdout",
     "output_type": "stream",
     "text": [
      "Device used : cuda\n"
     ]
    }
   ],
   "source": [
    "clf = TabNetClassifier(\n",
    "    n_d=64, n_a=64, n_steps=5,\n",
    "    gamma=1.5, n_independent=2, n_shared=2,\n",
    "    cat_idxs=cat_idxs,\n",
    "    cat_dims=cat_dims,\n",
    "    cat_emb_dim=1,\n",
    "    lambda_sparse=1e-4, momentum=0.3, clip_value=2.,\n",
    "    optimizer_fn=torch.optim.Adam,\n",
    "    optimizer_params=dict(lr=2e-2),\n",
    "    scheduler_params = {\"gamma\": 0.95,\n",
    "                     \"step_size\": 20},\n",
    "    scheduler_fn=torch.optim.lr_scheduler.StepLR, epsilon=1e-15\n",
    ")"
   ]
  },
  {
   "cell_type": "markdown",
   "metadata": {},
   "source": [
    "# Training"
   ]
  },
  {
   "cell_type": "code",
   "execution_count": 9,
   "metadata": {},
   "outputs": [],
   "source": [
    "if os.getenv(\"CI\", False):\n",
    "# Take only a subsample to run CI\n",
    "    X_train = train[features].values[train_indices][:1000,:]\n",
    "    y_train = train[target].values[train_indices][:1000]\n",
    "else:\n",
    "    X_train = train[features].values[train_indices]\n",
    "    y_train = train[target].values[train_indices]\n",
    "\n",
    "X_valid = train[features].values[valid_indices]\n",
    "y_valid = train[target].values[valid_indices]\n",
    "\n",
    "X_test = train[features].values[test_indices]\n",
    "y_test = train[target].values[test_indices]"
   ]
  },
  {
   "cell_type": "code",
   "execution_count": 12,
   "metadata": {},
   "outputs": [],
   "source": [
    "max_epochs = 500 if not os.getenv(\"CI\", False) else 2"
   ]
  },
  {
   "cell_type": "code",
   "execution_count": 13,
   "metadata": {
    "scrolled": true
   },
   "outputs": [
    {
     "name": "stdout",
     "output_type": "stream",
     "text": [
      "epoch 0  | loss: 0.66672 | train_accuracy: 0.72043 | valid_accuracy: 0.71865 |  0:01:10s\n",
      "epoch 1  | loss: 0.70018 | train_accuracy: 0.7067  | valid_accuracy: 0.70567 |  0:02:21s\n",
      "epoch 2  | loss: 0.67369 | train_accuracy: 0.72159 | valid_accuracy: 0.72006 |  0:03:29s\n",
      "epoch 3  | loss: 0.65157 | train_accuracy: 0.72731 | valid_accuracy: 0.72539 |  0:04:36s\n",
      "epoch 4  | loss: 0.6345  | train_accuracy: 0.73126 | valid_accuracy: 0.72948 |  0:05:43s\n",
      "epoch 5  | loss: 0.61923 | train_accuracy: 0.74338 | valid_accuracy: 0.74118 |  0:06:51s\n",
      "epoch 6  | loss: 0.60091 | train_accuracy: 0.75712 | valid_accuracy: 0.75479 |  0:07:59s\n",
      "epoch 7  | loss: 0.58222 | train_accuracy: 0.71993 | valid_accuracy: 0.71941 |  0:09:03s\n",
      "epoch 8  | loss: 0.61459 | train_accuracy: 0.74725 | valid_accuracy: 0.7463  |  0:10:05s\n",
      "epoch 9  | loss: 0.6084  | train_accuracy: 0.74018 | valid_accuracy: 0.7383  |  0:11:05s\n",
      "epoch 10 | loss: 0.58382 | train_accuracy: 0.77283 | valid_accuracy: 0.7698  |  0:12:06s\n",
      "epoch 11 | loss: 0.56601 | train_accuracy: 0.77099 | valid_accuracy: 0.76852 |  0:13:08s\n",
      "epoch 12 | loss: 0.55854 | train_accuracy: 0.77983 | valid_accuracy: 0.77639 |  0:14:18s\n",
      "epoch 13 | loss: 0.5333  | train_accuracy: 0.79535 | valid_accuracy: 0.79153 |  0:15:28s\n",
      "epoch 14 | loss: 0.53849 | train_accuracy: 0.78293 | valid_accuracy: 0.78129 |  0:16:36s\n",
      "epoch 15 | loss: 0.51761 | train_accuracy: 0.80767 | valid_accuracy: 0.80542 |  0:17:44s\n",
      "epoch 16 | loss: 0.52728 | train_accuracy: 0.80915 | valid_accuracy: 0.80746 |  0:18:51s\n",
      "epoch 17 | loss: 0.4971  | train_accuracy: 0.82144 | valid_accuracy: 0.81852 |  0:20:01s\n",
      "epoch 18 | loss: 0.46371 | train_accuracy: 0.8286  | valid_accuracy: 0.82601 |  0:21:11s\n",
      "epoch 19 | loss: 0.44406 | train_accuracy: 0.84279 | valid_accuracy: 0.83922 |  0:22:17s\n",
      "epoch 20 | loss: 0.43075 | train_accuracy: 0.85281 | valid_accuracy: 0.8501  |  0:23:26s\n",
      "epoch 21 | loss: 0.42348 | train_accuracy: 0.85357 | valid_accuracy: 0.8493  |  0:24:35s\n",
      "epoch 22 | loss: 0.41975 | train_accuracy: 0.84426 | valid_accuracy: 0.84055 |  0:25:46s\n",
      "epoch 23 | loss: 0.40292 | train_accuracy: 0.86421 | valid_accuracy: 0.85988 |  0:26:57s\n",
      "epoch 24 | loss: 0.39659 | train_accuracy: 0.85525 | valid_accuracy: 0.85085 |  0:28:09s\n",
      "epoch 25 | loss: 0.3912  | train_accuracy: 0.86684 | valid_accuracy: 0.86303 |  0:29:19s\n",
      "epoch 26 | loss: 0.38997 | train_accuracy: 0.87479 | valid_accuracy: 0.86937 |  0:30:32s\n",
      "epoch 27 | loss: 0.36313 | train_accuracy: 0.87827 | valid_accuracy: 0.87377 |  0:31:41s\n",
      "epoch 28 | loss: 0.36378 | train_accuracy: 0.87478 | valid_accuracy: 0.87027 |  0:32:51s\n",
      "epoch 29 | loss: 0.36246 | train_accuracy: 0.86873 | valid_accuracy: 0.86345 |  0:34:00s\n",
      "epoch 30 | loss: 0.38699 | train_accuracy: 0.86347 | valid_accuracy: 0.85934 |  0:35:02s\n",
      "epoch 31 | loss: 0.35411 | train_accuracy: 0.88946 | valid_accuracy: 0.8833  |  0:36:12s\n",
      "epoch 32 | loss: 0.33733 | train_accuracy: 0.89045 | valid_accuracy: 0.88491 |  0:37:22s\n",
      "epoch 33 | loss: 0.35114 | train_accuracy: 0.89377 | valid_accuracy: 0.88685 |  0:38:30s\n",
      "epoch 34 | loss: 0.32552 | train_accuracy: 0.89375 | valid_accuracy: 0.88759 |  0:39:38s\n",
      "epoch 35 | loss: 0.32688 | train_accuracy: 0.89353 | valid_accuracy: 0.88668 |  0:40:47s\n",
      "epoch 36 | loss: 0.31878 | train_accuracy: 0.90016 | valid_accuracy: 0.89463 |  0:41:54s\n",
      "epoch 37 | loss: 0.31141 | train_accuracy: 0.90214 | valid_accuracy: 0.89571 |  0:42:59s\n",
      "epoch 38 | loss: 0.30766 | train_accuracy: 0.90288 | valid_accuracy: 0.89613 |  0:44:05s\n",
      "epoch 39 | loss: 0.31089 | train_accuracy: 0.90303 | valid_accuracy: 0.89572 |  0:45:13s\n",
      "epoch 40 | loss: 0.30123 | train_accuracy: 0.90746 | valid_accuracy: 0.90088 |  0:46:21s\n",
      "epoch 41 | loss: 0.29907 | train_accuracy: 0.9078  | valid_accuracy: 0.90084 |  0:47:25s\n",
      "epoch 42 | loss: 0.29411 | train_accuracy: 0.90855 | valid_accuracy: 0.9011  |  0:48:33s\n",
      "epoch 43 | loss: 0.28834 | train_accuracy: 0.915   | valid_accuracy: 0.90734 |  0:49:42s\n",
      "epoch 44 | loss: 0.29817 | train_accuracy: 0.90667 | valid_accuracy: 0.89902 |  0:50:51s\n",
      "epoch 45 | loss: 0.28893 | train_accuracy: 0.91206 | valid_accuracy: 0.90423 |  0:52:01s\n",
      "epoch 46 | loss: 0.28473 | train_accuracy: 0.89081 | valid_accuracy: 0.88331 |  0:53:10s\n",
      "epoch 47 | loss: 0.29533 | train_accuracy: 0.91282 | valid_accuracy: 0.90472 |  0:54:18s\n",
      "epoch 48 | loss: 0.28913 | train_accuracy: 0.92002 | valid_accuracy: 0.91091 |  0:55:26s\n",
      "epoch 49 | loss: 0.28228 | train_accuracy: 0.91871 | valid_accuracy: 0.90985 |  0:56:29s\n",
      "epoch 50 | loss: 0.28105 | train_accuracy: 0.91673 | valid_accuracy: 0.908   |  0:57:31s\n",
      "epoch 51 | loss: 0.27618 | train_accuracy: 0.92016 | valid_accuracy: 0.9102  |  0:58:34s\n",
      "epoch 52 | loss: 0.27486 | train_accuracy: 0.92281 | valid_accuracy: 0.91364 |  0:59:38s\n",
      "epoch 53 | loss: 0.27269 | train_accuracy: 0.92135 | valid_accuracy: 0.91229 |  1:00:43s\n",
      "epoch 54 | loss: 0.27066 | train_accuracy: 0.92471 | valid_accuracy: 0.91579 |  1:01:54s\n",
      "epoch 55 | loss: 0.27493 | train_accuracy: 0.92355 | valid_accuracy: 0.91447 |  1:03:02s\n",
      "epoch 56 | loss: 0.26611 | train_accuracy: 0.9239  | valid_accuracy: 0.91445 |  1:04:09s\n",
      "epoch 57 | loss: 0.26399 | train_accuracy: 0.92424 | valid_accuracy: 0.91426 |  1:05:18s\n",
      "epoch 58 | loss: 0.26221 | train_accuracy: 0.92534 | valid_accuracy: 0.91551 |  1:06:28s\n",
      "epoch 59 | loss: 0.25943 | train_accuracy: 0.92696 | valid_accuracy: 0.9164  |  1:07:26s\n",
      "epoch 60 | loss: 0.25856 | train_accuracy: 0.9296  | valid_accuracy: 0.91945 |  1:08:20s\n",
      "epoch 61 | loss: 0.25562 | train_accuracy: 0.93045 | valid_accuracy: 0.92036 |  1:09:12s\n",
      "epoch 62 | loss: 0.26216 | train_accuracy: 0.92522 | valid_accuracy: 0.91537 |  1:10:05s\n",
      "epoch 63 | loss: 0.25392 | train_accuracy: 0.92146 | valid_accuracy: 0.91313 |  1:10:58s\n",
      "epoch 64 | loss: 0.2516  | train_accuracy: 0.92876 | valid_accuracy: 0.91901 |  1:11:51s\n",
      "epoch 65 | loss: 0.24947 | train_accuracy: 0.93221 | valid_accuracy: 0.92168 |  1:12:43s\n",
      "epoch 66 | loss: 0.25263 | train_accuracy: 0.92636 | valid_accuracy: 0.91599 |  1:13:37s\n",
      "epoch 67 | loss: 0.24824 | train_accuracy: 0.93127 | valid_accuracy: 0.92122 |  1:14:29s\n",
      "epoch 68 | loss: 0.24684 | train_accuracy: 0.93221 | valid_accuracy: 0.92127 |  1:15:22s\n",
      "epoch 69 | loss: 0.2442  | train_accuracy: 0.93364 | valid_accuracy: 0.92228 |  1:16:16s\n",
      "epoch 70 | loss: 0.24517 | train_accuracy: 0.93151 | valid_accuracy: 0.92123 |  1:17:11s\n",
      "epoch 71 | loss: 0.24182 | train_accuracy: 0.93198 | valid_accuracy: 0.92137 |  1:18:07s\n",
      "epoch 72 | loss: 0.2406  | train_accuracy: 0.93513 | valid_accuracy: 0.92365 |  1:19:02s\n",
      "epoch 73 | loss: 0.2405  | train_accuracy: 0.9325  | valid_accuracy: 0.92252 |  1:19:58s\n",
      "epoch 74 | loss: 0.24049 | train_accuracy: 0.93397 | valid_accuracy: 0.9237  |  1:20:54s\n",
      "epoch 75 | loss: 0.23971 | train_accuracy: 0.93368 | valid_accuracy: 0.92214 |  1:21:47s\n",
      "epoch 76 | loss: 0.23749 | train_accuracy: 0.93177 | valid_accuracy: 0.9209  |  1:22:41s\n",
      "epoch 77 | loss: 0.23859 | train_accuracy: 0.93334 | valid_accuracy: 0.92157 |  1:23:34s\n",
      "epoch 78 | loss: 0.23589 | train_accuracy: 0.9301  | valid_accuracy: 0.91953 |  1:24:31s\n",
      "epoch 79 | loss: 0.235   | train_accuracy: 0.93478 | valid_accuracy: 0.92341 |  1:25:26s\n",
      "epoch 80 | loss: 0.23225 | train_accuracy: 0.93091 | valid_accuracy: 0.9203  |  1:26:23s\n",
      "epoch 81 | loss: 0.2306  | train_accuracy: 0.93512 | valid_accuracy: 0.92319 |  1:27:20s\n",
      "epoch 82 | loss: 0.23068 | train_accuracy: 0.93851 | valid_accuracy: 0.92643 |  1:28:15s\n",
      "epoch 83 | loss: 0.2286  | train_accuracy: 0.93961 | valid_accuracy: 0.92809 |  1:29:10s\n",
      "epoch 84 | loss: 0.23028 | train_accuracy: 0.93502 | valid_accuracy: 0.9233  |  1:30:03s\n",
      "epoch 85 | loss: 0.22963 | train_accuracy: 0.93742 | valid_accuracy: 0.92582 |  1:30:59s\n",
      "epoch 86 | loss: 0.22791 | train_accuracy: 0.93949 | valid_accuracy: 0.92785 |  1:31:55s\n",
      "epoch 87 | loss: 0.22678 | train_accuracy: 0.93896 | valid_accuracy: 0.92743 |  1:32:55s\n",
      "epoch 88 | loss: 0.22606 | train_accuracy: 0.94094 | valid_accuracy: 0.92911 |  1:33:51s\n",
      "epoch 89 | loss: 0.22488 | train_accuracy: 0.93975 | valid_accuracy: 0.92745 |  1:34:44s\n",
      "epoch 90 | loss: 0.22355 | train_accuracy: 0.93447 | valid_accuracy: 0.92265 |  1:35:39s\n",
      "epoch 91 | loss: 0.22308 | train_accuracy: 0.93599 | valid_accuracy: 0.92401 |  1:36:38s\n",
      "epoch 92 | loss: 0.22156 | train_accuracy: 0.94    | valid_accuracy: 0.92797 |  1:37:44s\n"
     ]
    },
    {
     "name": "stdout",
     "output_type": "stream",
     "text": [
      "epoch 93 | loss: 0.22027 | train_accuracy: 0.94245 | valid_accuracy: 0.93029 |  1:38:48s\n",
      "epoch 94 | loss: 0.22061 | train_accuracy: 0.93719 | valid_accuracy: 0.9247  |  1:39:52s\n",
      "epoch 95 | loss: 0.22168 | train_accuracy: 0.93906 | valid_accuracy: 0.92753 |  1:40:56s\n",
      "epoch 96 | loss: 0.22121 | train_accuracy: 0.94211 | valid_accuracy: 0.93062 |  1:42:04s\n",
      "epoch 97 | loss: 0.22429 | train_accuracy: 0.93611 | valid_accuracy: 0.92475 |  1:43:13s\n",
      "epoch 98 | loss: 0.22502 | train_accuracy: 0.93963 | valid_accuracy: 0.92769 |  1:44:21s\n",
      "epoch 99 | loss: 0.22057 | train_accuracy: 0.94214 | valid_accuracy: 0.92915 |  1:45:30s\n",
      "epoch 100| loss: 0.21679 | train_accuracy: 0.94168 | valid_accuracy: 0.92907 |  1:46:38s\n",
      "epoch 101| loss: 0.21658 | train_accuracy: 0.94306 | valid_accuracy: 0.9306  |  1:47:47s\n",
      "epoch 102| loss: 0.215   | train_accuracy: 0.94217 | valid_accuracy: 0.92961 |  1:48:56s\n",
      "epoch 103| loss: 0.21419 | train_accuracy: 0.9374  | valid_accuracy: 0.92549 |  1:50:04s\n",
      "epoch 104| loss: 0.21388 | train_accuracy: 0.94227 | valid_accuracy: 0.92926 |  1:51:12s\n",
      "epoch 105| loss: 0.21331 | train_accuracy: 0.9448  | valid_accuracy: 0.9318  |  1:52:22s\n",
      "epoch 106| loss: 0.21293 | train_accuracy: 0.94463 | valid_accuracy: 0.93253 |  1:53:30s\n",
      "epoch 107| loss: 0.21194 | train_accuracy: 0.94241 | valid_accuracy: 0.92927 |  1:54:37s\n",
      "epoch 108| loss: 0.21107 | train_accuracy: 0.94398 | valid_accuracy: 0.93111 |  1:55:46s\n",
      "epoch 109| loss: 0.21194 | train_accuracy: 0.94319 | valid_accuracy: 0.93034 |  1:56:54s\n",
      "epoch 110| loss: 0.21014 | train_accuracy: 0.94339 | valid_accuracy: 0.93098 |  1:57:58s\n",
      "epoch 111| loss: 0.2116  | train_accuracy: 0.94408 | valid_accuracy: 0.93139 |  1:59:02s\n",
      "epoch 112| loss: 0.20939 | train_accuracy: 0.94474 | valid_accuracy: 0.93117 |  2:00:12s\n",
      "epoch 113| loss: 0.21232 | train_accuracy: 0.94598 | valid_accuracy: 0.93324 |  2:01:21s\n",
      "epoch 114| loss: 0.21128 | train_accuracy: 0.94079 | valid_accuracy: 0.92721 |  2:02:29s\n",
      "epoch 115| loss: 0.21405 | train_accuracy: 0.94507 | valid_accuracy: 0.93161 |  2:03:37s\n",
      "epoch 116| loss: 0.20958 | train_accuracy: 0.94489 | valid_accuracy: 0.93178 |  2:04:43s\n",
      "epoch 117| loss: 0.20726 | train_accuracy: 0.94438 | valid_accuracy: 0.93224 |  2:05:52s\n",
      "epoch 118| loss: 0.20842 | train_accuracy: 0.94389 | valid_accuracy: 0.93037 |  2:07:02s\n",
      "epoch 119| loss: 0.20765 | train_accuracy: 0.94442 | valid_accuracy: 0.93089 |  2:08:14s\n",
      "epoch 120| loss: 0.20644 | train_accuracy: 0.94687 | valid_accuracy: 0.93403 |  2:09:25s\n",
      "epoch 121| loss: 0.205   | train_accuracy: 0.94579 | valid_accuracy: 0.93184 |  2:10:36s\n",
      "epoch 122| loss: 0.20438 | train_accuracy: 0.94379 | valid_accuracy: 0.92971 |  2:11:48s\n",
      "epoch 123| loss: 0.20551 | train_accuracy: 0.9469  | valid_accuracy: 0.93404 |  2:13:00s\n",
      "epoch 124| loss: 0.20386 | train_accuracy: 0.94599 | valid_accuracy: 0.93287 |  2:14:06s\n",
      "epoch 125| loss: 0.20443 | train_accuracy: 0.94827 | valid_accuracy: 0.9351  |  2:15:14s\n",
      "epoch 126| loss: 0.20429 | train_accuracy: 0.94758 | valid_accuracy: 0.9338  |  2:16:22s\n",
      "epoch 127| loss: 0.20167 | train_accuracy: 0.9479  | valid_accuracy: 0.93408 |  2:17:31s\n",
      "epoch 128| loss: 0.20273 | train_accuracy: 0.94871 | valid_accuracy: 0.93514 |  2:18:41s\n",
      "epoch 129| loss: 0.20158 | train_accuracy: 0.94723 | valid_accuracy: 0.9338  |  2:19:49s\n",
      "epoch 130| loss: 0.20318 | train_accuracy: 0.94676 | valid_accuracy: 0.93301 |  2:20:57s\n",
      "epoch 131| loss: 0.20185 | train_accuracy: 0.94954 | valid_accuracy: 0.9362  |  2:22:07s\n",
      "epoch 132| loss: 0.20148 | train_accuracy: 0.9464  | valid_accuracy: 0.93244 |  2:23:16s\n",
      "epoch 133| loss: 0.20749 | train_accuracy: 0.94199 | valid_accuracy: 0.92885 |  2:24:31s\n",
      "epoch 134| loss: 0.20206 | train_accuracy: 0.94566 | valid_accuracy: 0.93223 |  2:25:43s\n",
      "epoch 135| loss: 0.2248  | train_accuracy: 0.93762 | valid_accuracy: 0.92591 |  2:26:53s\n",
      "epoch 136| loss: 0.20628 | train_accuracy: 0.94907 | valid_accuracy: 0.93416 |  2:28:01s\n",
      "epoch 137| loss: 0.20054 | train_accuracy: 0.94615 | valid_accuracy: 0.93231 |  2:29:11s\n",
      "epoch 138| loss: 0.20043 | train_accuracy: 0.94832 | valid_accuracy: 0.93441 |  2:30:20s\n",
      "epoch 139| loss: 0.19813 | train_accuracy: 0.94285 | valid_accuracy: 0.93047 |  2:31:29s\n",
      "epoch 140| loss: 0.19783 | train_accuracy: 0.94863 | valid_accuracy: 0.93428 |  2:32:36s\n",
      "epoch 141| loss: 0.19633 | train_accuracy: 0.94987 | valid_accuracy: 0.93604 |  2:33:46s\n",
      "epoch 142| loss: 0.19656 | train_accuracy: 0.94969 | valid_accuracy: 0.9355  |  2:34:55s\n",
      "epoch 143| loss: 0.196   | train_accuracy: 0.94865 | valid_accuracy: 0.9361  |  2:36:05s\n",
      "epoch 144| loss: 0.2008  | train_accuracy: 0.94455 | valid_accuracy: 0.93027 |  2:37:14s\n",
      "epoch 145| loss: 0.2077  | train_accuracy: 0.9476  | valid_accuracy: 0.93459 |  2:38:22s\n",
      "epoch 146| loss: 0.19758 | train_accuracy: 0.95031 | valid_accuracy: 0.93599 |  2:39:28s\n",
      "epoch 147| loss: 0.19908 | train_accuracy: 0.94999 | valid_accuracy: 0.93676 |  2:40:36s\n",
      "epoch 148| loss: 0.19504 | train_accuracy: 0.94651 | valid_accuracy: 0.9333  |  2:41:45s\n",
      "epoch 149| loss: 0.19375 | train_accuracy: 0.94982 | valid_accuracy: 0.93568 |  2:42:53s\n",
      "epoch 150| loss: 0.19397 | train_accuracy: 0.94758 | valid_accuracy: 0.93396 |  2:44:05s\n",
      "epoch 151| loss: 0.19513 | train_accuracy: 0.9501  | valid_accuracy: 0.93539 |  2:45:11s\n",
      "epoch 152| loss: 0.19357 | train_accuracy: 0.95073 | valid_accuracy: 0.93698 |  2:46:21s\n",
      "epoch 153| loss: 0.19202 | train_accuracy: 0.95033 | valid_accuracy: 0.93696 |  2:47:41s\n",
      "epoch 154| loss: 0.19511 | train_accuracy: 0.94843 | valid_accuracy: 0.93521 |  2:48:55s\n",
      "epoch 155| loss: 0.20035 | train_accuracy: 0.93777 | valid_accuracy: 0.92474 |  2:50:07s\n",
      "epoch 156| loss: 0.20348 | train_accuracy: 0.94944 | valid_accuracy: 0.93516 |  2:51:17s\n",
      "epoch 157| loss: 0.19469 | train_accuracy: 0.94894 | valid_accuracy: 0.93487 |  2:52:28s\n",
      "epoch 158| loss: 0.19184 | train_accuracy: 0.94933 | valid_accuracy: 0.93557 |  2:53:40s\n",
      "epoch 159| loss: 0.19137 | train_accuracy: 0.95084 | valid_accuracy: 0.93687 |  2:54:52s\n",
      "epoch 160| loss: 0.19177 | train_accuracy: 0.95351 | valid_accuracy: 0.9383  |  2:56:04s\n",
      "epoch 161| loss: 0.19127 | train_accuracy: 0.95065 | valid_accuracy: 0.93647 |  2:57:11s\n",
      "epoch 162| loss: 0.19024 | train_accuracy: 0.94795 | valid_accuracy: 0.93423 |  2:58:22s\n",
      "epoch 163| loss: 0.1923  | train_accuracy: 0.95194 | valid_accuracy: 0.93737 |  2:59:31s\n",
      "epoch 164| loss: 0.19483 | train_accuracy: 0.95308 | valid_accuracy: 0.93787 |  3:00:43s\n",
      "epoch 165| loss: 0.19007 | train_accuracy: 0.95349 | valid_accuracy: 0.93823 |  3:01:53s\n",
      "epoch 166| loss: 0.18953 | train_accuracy: 0.95142 | valid_accuracy: 0.93624 |  3:03:06s\n",
      "epoch 167| loss: 0.18777 | train_accuracy: 0.95365 | valid_accuracy: 0.93858 |  3:04:21s\n",
      "epoch 168| loss: 0.19207 | train_accuracy: 0.94606 | valid_accuracy: 0.93244 |  3:05:38s\n",
      "epoch 169| loss: 0.19145 | train_accuracy: 0.95369 | valid_accuracy: 0.93974 |  3:06:48s\n",
      "epoch 170| loss: 0.18997 | train_accuracy: 0.95342 | valid_accuracy: 0.93868 |  3:08:01s\n",
      "epoch 171| loss: 0.18849 | train_accuracy: 0.95346 | valid_accuracy: 0.93912 |  3:09:16s\n",
      "epoch 172| loss: 0.18909 | train_accuracy: 0.95345 | valid_accuracy: 0.93958 |  3:10:31s\n",
      "epoch 173| loss: 0.18898 | train_accuracy: 0.95498 | valid_accuracy: 0.93943 |  3:11:40s\n",
      "epoch 174| loss: 0.18912 | train_accuracy: 0.95305 | valid_accuracy: 0.93824 |  3:12:45s\n",
      "epoch 175| loss: 0.1876  | train_accuracy: 0.95223 | valid_accuracy: 0.93833 |  3:13:52s\n",
      "epoch 176| loss: 0.18777 | train_accuracy: 0.95244 | valid_accuracy: 0.938   |  3:15:01s\n",
      "epoch 177| loss: 0.18821 | train_accuracy: 0.95503 | valid_accuracy: 0.94012 |  3:16:11s\n",
      "epoch 178| loss: 0.18739 | train_accuracy: 0.95482 | valid_accuracy: 0.93977 |  3:17:24s\n",
      "epoch 179| loss: 0.18663 | train_accuracy: 0.95293 | valid_accuracy: 0.93847 |  3:18:34s\n",
      "epoch 180| loss: 0.18623 | train_accuracy: 0.95501 | valid_accuracy: 0.94027 |  3:19:47s\n",
      "epoch 181| loss: 0.18701 | train_accuracy: 0.95575 | valid_accuracy: 0.94132 |  3:21:01s\n",
      "epoch 182| loss: 0.18476 | train_accuracy: 0.95409 | valid_accuracy: 0.94007 |  3:22:11s\n",
      "epoch 183| loss: 0.18497 | train_accuracy: 0.95507 | valid_accuracy: 0.93976 |  3:23:22s\n",
      "epoch 184| loss: 0.18483 | train_accuracy: 0.95623 | valid_accuracy: 0.9404  |  3:24:29s\n",
      "epoch 185| loss: 0.18847 | train_accuracy: 0.95416 | valid_accuracy: 0.93957 |  3:25:35s\n"
     ]
    },
    {
     "name": "stdout",
     "output_type": "stream",
     "text": [
      "epoch 186| loss: 0.18459 | train_accuracy: 0.95454 | valid_accuracy: 0.93984 |  3:26:42s\n",
      "epoch 187| loss: 0.18397 | train_accuracy: 0.95614 | valid_accuracy: 0.94044 |  3:27:50s\n",
      "epoch 188| loss: 0.18478 | train_accuracy: 0.95355 | valid_accuracy: 0.93908 |  3:29:00s\n",
      "epoch 189| loss: 0.18513 | train_accuracy: 0.9541  | valid_accuracy: 0.93913 |  3:30:10s\n",
      "epoch 190| loss: 0.1864  | train_accuracy: 0.95328 | valid_accuracy: 0.93865 |  3:31:18s\n",
      "epoch 191| loss: 0.19991 | train_accuracy: 0.95273 | valid_accuracy: 0.93827 |  3:32:24s\n",
      "epoch 192| loss: 0.18642 | train_accuracy: 0.95129 | valid_accuracy: 0.937   |  3:33:32s\n",
      "epoch 193| loss: 0.1875  | train_accuracy: 0.95006 | valid_accuracy: 0.93529 |  3:34:42s\n",
      "epoch 194| loss: 0.1848  | train_accuracy: 0.95476 | valid_accuracy: 0.94013 |  3:35:52s\n",
      "epoch 195| loss: 0.18374 | train_accuracy: 0.95643 | valid_accuracy: 0.94138 |  3:37:02s\n",
      "epoch 196| loss: 0.18526 | train_accuracy: 0.95612 | valid_accuracy: 0.9412  |  3:38:10s\n",
      "epoch 197| loss: 0.1864  | train_accuracy: 0.9511  | valid_accuracy: 0.93651 |  3:39:19s\n",
      "epoch 198| loss: 0.19024 | train_accuracy: 0.95365 | valid_accuracy: 0.93912 |  3:40:27s\n",
      "epoch 199| loss: 0.18351 | train_accuracy: 0.9537  | valid_accuracy: 0.93912 |  3:41:36s\n",
      "epoch 200| loss: 0.18442 | train_accuracy: 0.95366 | valid_accuracy: 0.93865 |  3:42:45s\n",
      "epoch 201| loss: 0.18685 | train_accuracy: 0.95417 | valid_accuracy: 0.94015 |  3:43:53s\n",
      "epoch 202| loss: 0.18336 | train_accuracy: 0.95404 | valid_accuracy: 0.93829 |  3:45:02s\n",
      "epoch 203| loss: 0.18629 | train_accuracy: 0.94972 | valid_accuracy: 0.93557 |  3:46:11s\n",
      "epoch 204| loss: 0.18402 | train_accuracy: 0.95105 | valid_accuracy: 0.93625 |  3:47:21s\n",
      "epoch 205| loss: 0.18423 | train_accuracy: 0.95545 | valid_accuracy: 0.94072 |  3:48:31s\n",
      "epoch 206| loss: 0.17933 | train_accuracy: 0.95374 | valid_accuracy: 0.93825 |  3:49:42s\n",
      "epoch 207| loss: 0.18166 | train_accuracy: 0.95595 | valid_accuracy: 0.94105 |  3:50:50s\n",
      "epoch 208| loss: 0.18295 | train_accuracy: 0.95659 | valid_accuracy: 0.94083 |  3:51:57s\n",
      "epoch 209| loss: 0.18097 | train_accuracy: 0.95602 | valid_accuracy: 0.94132 |  3:53:05s\n",
      "epoch 210| loss: 0.18009 | train_accuracy: 0.95707 | valid_accuracy: 0.94187 |  3:54:12s\n",
      "epoch 211| loss: 0.17978 | train_accuracy: 0.95148 | valid_accuracy: 0.93531 |  3:55:20s\n",
      "epoch 212| loss: 0.18532 | train_accuracy: 0.95311 | valid_accuracy: 0.93839 |  3:56:28s\n",
      "epoch 213| loss: 0.17977 | train_accuracy: 0.95528 | valid_accuracy: 0.9402  |  3:57:30s\n",
      "epoch 214| loss: 0.17812 | train_accuracy: 0.95734 | valid_accuracy: 0.94205 |  3:58:35s\n",
      "epoch 215| loss: 0.1792  | train_accuracy: 0.95748 | valid_accuracy: 0.94148 |  3:59:42s\n",
      "epoch 216| loss: 0.17906 | train_accuracy: 0.95517 | valid_accuracy: 0.93988 |  4:00:50s\n",
      "epoch 217| loss: 0.1793  | train_accuracy: 0.95343 | valid_accuracy: 0.93885 |  4:01:57s\n",
      "epoch 218| loss: 0.18097 | train_accuracy: 0.95682 | valid_accuracy: 0.94169 |  4:03:04s\n",
      "epoch 219| loss: 0.17904 | train_accuracy: 0.95658 | valid_accuracy: 0.94164 |  4:04:12s\n",
      "epoch 220| loss: 0.1771  | train_accuracy: 0.95774 | valid_accuracy: 0.94291 |  4:05:21s\n",
      "epoch 221| loss: 0.17872 | train_accuracy: 0.95663 | valid_accuracy: 0.94172 |  4:06:30s\n",
      "epoch 222| loss: 0.17794 | train_accuracy: 0.95657 | valid_accuracy: 0.9404  |  4:07:40s\n",
      "epoch 223| loss: 0.1769  | train_accuracy: 0.95666 | valid_accuracy: 0.9416  |  4:08:51s\n",
      "epoch 224| loss: 0.17717 | train_accuracy: 0.95656 | valid_accuracy: 0.94058 |  4:10:00s\n",
      "epoch 225| loss: 0.17576 | train_accuracy: 0.95656 | valid_accuracy: 0.94091 |  4:11:09s\n",
      "epoch 226| loss: 0.17612 | train_accuracy: 0.95749 | valid_accuracy: 0.9416  |  4:12:17s\n",
      "epoch 227| loss: 0.17492 | train_accuracy: 0.95737 | valid_accuracy: 0.94209 |  4:13:26s\n",
      "epoch 228| loss: 0.17751 | train_accuracy: 0.95603 | valid_accuracy: 0.94009 |  4:14:37s\n",
      "epoch 229| loss: 0.17536 | train_accuracy: 0.95676 | valid_accuracy: 0.94041 |  4:15:46s\n",
      "epoch 230| loss: 0.18096 | train_accuracy: 0.95554 | valid_accuracy: 0.9403  |  4:16:55s\n",
      "epoch 231| loss: 0.17895 | train_accuracy: 0.95815 | valid_accuracy: 0.94211 |  4:18:04s\n",
      "epoch 232| loss: 0.17663 | train_accuracy: 0.95691 | valid_accuracy: 0.94164 |  4:19:12s\n",
      "epoch 233| loss: 0.17738 | train_accuracy: 0.95696 | valid_accuracy: 0.94098 |  4:20:21s\n",
      "epoch 234| loss: 0.17536 | train_accuracy: 0.95986 | valid_accuracy: 0.94403 |  4:21:29s\n",
      "epoch 235| loss: 0.17551 | train_accuracy: 0.95801 | valid_accuracy: 0.94237 |  4:22:36s\n",
      "epoch 236| loss: 0.17365 | train_accuracy: 0.95834 | valid_accuracy: 0.94191 |  4:23:42s\n",
      "epoch 237| loss: 0.17577 | train_accuracy: 0.95562 | valid_accuracy: 0.94007 |  4:24:49s\n",
      "epoch 238| loss: 0.1745  | train_accuracy: 0.95838 | valid_accuracy: 0.94241 |  4:25:57s\n",
      "epoch 239| loss: 0.17482 | train_accuracy: 0.95681 | valid_accuracy: 0.9401  |  4:27:05s\n",
      "epoch 240| loss: 0.17373 | train_accuracy: 0.9582  | valid_accuracy: 0.94234 |  4:28:10s\n",
      "epoch 241| loss: 0.17409 | train_accuracy: 0.95897 | valid_accuracy: 0.9433  |  4:29:12s\n",
      "epoch 242| loss: 0.17369 | train_accuracy: 0.95917 | valid_accuracy: 0.94344 |  4:30:14s\n",
      "epoch 243| loss: 0.1719  | train_accuracy: 0.95896 | valid_accuracy: 0.94314 |  4:31:15s\n",
      "epoch 244| loss: 0.17351 | train_accuracy: 0.95813 | valid_accuracy: 0.94193 |  4:32:18s\n",
      "epoch 245| loss: 0.17369 | train_accuracy: 0.95876 | valid_accuracy: 0.94216 |  4:33:26s\n",
      "epoch 246| loss: 0.17514 | train_accuracy: 0.95706 | valid_accuracy: 0.94165 |  4:34:36s\n",
      "epoch 247| loss: 0.1727  | train_accuracy: 0.95879 | valid_accuracy: 0.94296 |  4:35:43s\n",
      "epoch 248| loss: 0.17178 | train_accuracy: 0.96017 | valid_accuracy: 0.94476 |  4:36:54s\n",
      "epoch 249| loss: 0.17365 | train_accuracy: 0.95896 | valid_accuracy: 0.94276 |  4:38:04s\n",
      "epoch 250| loss: 0.17243 | train_accuracy: 0.96004 | valid_accuracy: 0.94415 |  4:39:15s\n",
      "epoch 251| loss: 0.1714  | train_accuracy: 0.9581  | valid_accuracy: 0.94207 |  4:40:25s\n",
      "epoch 252| loss: 0.17339 | train_accuracy: 0.9589  | valid_accuracy: 0.9431  |  4:41:36s\n",
      "epoch 253| loss: 0.17265 | train_accuracy: 0.95747 | valid_accuracy: 0.94099 |  4:42:48s\n",
      "epoch 254| loss: 0.17191 | train_accuracy: 0.95911 | valid_accuracy: 0.94272 |  4:43:59s\n",
      "epoch 255| loss: 0.17286 | train_accuracy: 0.95907 | valid_accuracy: 0.94305 |  4:45:10s\n",
      "epoch 256| loss: 0.17166 | train_accuracy: 0.95876 | valid_accuracy: 0.94189 |  4:46:22s\n",
      "epoch 257| loss: 0.17445 | train_accuracy: 0.95873 | valid_accuracy: 0.94288 |  4:47:32s\n",
      "epoch 258| loss: 0.17246 | train_accuracy: 0.9571  | valid_accuracy: 0.94107 |  4:48:42s\n",
      "epoch 259| loss: 0.17167 | train_accuracy: 0.9586  | valid_accuracy: 0.9428  |  4:49:50s\n",
      "epoch 260| loss: 0.17032 | train_accuracy: 0.95633 | valid_accuracy: 0.94108 |  4:51:01s\n",
      "epoch 261| loss: 0.17014 | train_accuracy: 0.90436 | valid_accuracy: 0.88895 |  4:52:13s\n",
      "epoch 262| loss: 0.17113 | train_accuracy: 0.96249 | valid_accuracy: 0.94541 |  4:53:25s\n",
      "epoch 263| loss: 0.17129 | train_accuracy: 0.96074 | valid_accuracy: 0.94438 |  4:54:37s\n",
      "epoch 264| loss: 0.16901 | train_accuracy: 0.96108 | valid_accuracy: 0.94423 |  4:55:49s\n",
      "epoch 265| loss: 0.16881 | train_accuracy: 0.96095 | valid_accuracy: 0.94439 |  4:57:00s\n",
      "epoch 266| loss: 0.16859 | train_accuracy: 0.95999 | valid_accuracy: 0.9442  |  4:58:11s\n",
      "epoch 267| loss: 0.17174 | train_accuracy: 0.96211 | valid_accuracy: 0.94593 |  4:59:23s\n",
      "epoch 268| loss: 0.16886 | train_accuracy: 0.96062 | valid_accuracy: 0.94439 |  5:00:34s\n",
      "epoch 269| loss: 0.16918 | train_accuracy: 0.95849 | valid_accuracy: 0.94239 |  5:01:45s\n",
      "epoch 270| loss: 0.16922 | train_accuracy: 0.9619  | valid_accuracy: 0.94516 |  5:02:55s\n",
      "epoch 271| loss: 0.16863 | train_accuracy: 0.95955 | valid_accuracy: 0.94415 |  5:04:07s\n",
      "epoch 272| loss: 0.16742 | train_accuracy: 0.96004 | valid_accuracy: 0.94422 |  5:05:17s\n",
      "epoch 273| loss: 0.16857 | train_accuracy: 0.9602  | valid_accuracy: 0.94363 |  5:06:29s\n",
      "epoch 274| loss: 0.16813 | train_accuracy: 0.96186 | valid_accuracy: 0.94569 |  5:07:40s\n",
      "epoch 275| loss: 0.17063 | train_accuracy: 0.9603  | valid_accuracy: 0.94436 |  5:08:51s\n",
      "epoch 276| loss: 0.16912 | train_accuracy: 0.9598  | valid_accuracy: 0.94328 |  5:10:03s\n",
      "epoch 277| loss: 0.16917 | train_accuracy: 0.95954 | valid_accuracy: 0.9436  |  5:11:14s\n",
      "epoch 278| loss: 0.16846 | train_accuracy: 0.95978 | valid_accuracy: 0.94315 |  5:12:26s\n"
     ]
    },
    {
     "name": "stdout",
     "output_type": "stream",
     "text": [
      "epoch 279| loss: 0.16858 | train_accuracy: 0.96152 | valid_accuracy: 0.94529 |  5:13:37s\n",
      "epoch 280| loss: 0.16828 | train_accuracy: 0.95824 | valid_accuracy: 0.94234 |  5:14:49s\n",
      "epoch 281| loss: 0.16692 | train_accuracy: 0.96191 | valid_accuracy: 0.94533 |  5:16:03s\n",
      "epoch 282| loss: 0.16849 | train_accuracy: 0.96114 | valid_accuracy: 0.94505 |  5:17:13s\n",
      "epoch 283| loss: 0.16708 | train_accuracy: 0.96005 | valid_accuracy: 0.94365 |  5:18:27s\n",
      "epoch 284| loss: 0.16678 | train_accuracy: 0.95957 | valid_accuracy: 0.94359 |  5:19:39s\n",
      "epoch 285| loss: 0.16595 | train_accuracy: 0.95998 | valid_accuracy: 0.94312 |  5:20:49s\n",
      "epoch 286| loss: 0.16765 | train_accuracy: 0.96128 | valid_accuracy: 0.94431 |  5:22:02s\n",
      "epoch 287| loss: 0.16697 | train_accuracy: 0.96185 | valid_accuracy: 0.94525 |  5:23:13s\n",
      "epoch 288| loss: 0.16771 | train_accuracy: 0.9596  | valid_accuracy: 0.94325 |  5:24:25s\n",
      "epoch 289| loss: 0.16605 | train_accuracy: 0.96189 | valid_accuracy: 0.94475 |  5:25:37s\n",
      "epoch 290| loss: 0.16606 | train_accuracy: 0.96086 | valid_accuracy: 0.94487 |  5:26:48s\n",
      "epoch 291| loss: 0.16633 | train_accuracy: 0.96198 | valid_accuracy: 0.94493 |  5:28:00s\n",
      "epoch 292| loss: 0.16546 | train_accuracy: 0.96206 | valid_accuracy: 0.94477 |  5:29:11s\n",
      "epoch 293| loss: 0.16599 | train_accuracy: 0.9615  | valid_accuracy: 0.94409 |  5:30:22s\n",
      "epoch 294| loss: 0.16679 | train_accuracy: 0.96226 | valid_accuracy: 0.94574 |  5:31:34s\n",
      "epoch 295| loss: 0.16435 | train_accuracy: 0.95877 | valid_accuracy: 0.94187 |  5:32:45s\n",
      "epoch 296| loss: 0.16619 | train_accuracy: 0.96155 | valid_accuracy: 0.94484 |  5:33:55s\n",
      "epoch 297| loss: 0.16607 | train_accuracy: 0.95871 | valid_accuracy: 0.94203 |  5:35:07s\n",
      "epoch 298| loss: 0.16726 | train_accuracy: 0.95999 | valid_accuracy: 0.94353 |  5:36:21s\n",
      "epoch 299| loss: 0.16615 | train_accuracy: 0.96212 | valid_accuracy: 0.94491 |  5:37:33s\n",
      "epoch 300| loss: 0.16407 | train_accuracy: 0.96202 | valid_accuracy: 0.94519 |  5:38:46s\n",
      "epoch 301| loss: 0.1656  | train_accuracy: 0.9625  | valid_accuracy: 0.94449 |  5:39:59s\n",
      "epoch 302| loss: 0.1676  | train_accuracy: 0.95948 | valid_accuracy: 0.94295 |  5:41:11s\n",
      "epoch 303| loss: 0.16675 | train_accuracy: 0.95874 | valid_accuracy: 0.94307 |  5:42:23s\n",
      "epoch 304| loss: 0.1695  | train_accuracy: 0.96293 | valid_accuracy: 0.94595 |  5:43:34s\n",
      "epoch 305| loss: 0.1649  | train_accuracy: 0.9628  | valid_accuracy: 0.94529 |  5:44:45s\n",
      "epoch 306| loss: 0.1646  | train_accuracy: 0.96346 | valid_accuracy: 0.94673 |  5:45:57s\n",
      "epoch 307| loss: 0.1643  | train_accuracy: 0.9605  | valid_accuracy: 0.94365 |  5:47:09s\n",
      "epoch 308| loss: 0.16422 | train_accuracy: 0.96173 | valid_accuracy: 0.94385 |  5:48:22s\n",
      "epoch 309| loss: 0.16402 | train_accuracy: 0.96162 | valid_accuracy: 0.94447 |  5:49:33s\n",
      "epoch 310| loss: 0.16201 | train_accuracy: 0.96271 | valid_accuracy: 0.94669 |  5:50:45s\n",
      "epoch 311| loss: 0.16477 | train_accuracy: 0.96261 | valid_accuracy: 0.94478 |  5:51:56s\n",
      "epoch 312| loss: 0.16404 | train_accuracy: 0.95856 | valid_accuracy: 0.94197 |  5:53:07s\n",
      "epoch 313| loss: 0.16323 | train_accuracy: 0.96365 | valid_accuracy: 0.94642 |  5:54:19s\n",
      "epoch 314| loss: 0.16468 | train_accuracy: 0.963   | valid_accuracy: 0.94657 |  5:55:30s\n",
      "epoch 315| loss: 0.16602 | train_accuracy: 0.9599  | valid_accuracy: 0.94345 |  5:56:41s\n",
      "epoch 316| loss: 0.16466 | train_accuracy: 0.96311 | valid_accuracy: 0.94605 |  5:57:52s\n",
      "epoch 317| loss: 0.16578 | train_accuracy: 0.9605  | valid_accuracy: 0.9434  |  5:59:04s\n",
      "epoch 318| loss: 0.16391 | train_accuracy: 0.96236 | valid_accuracy: 0.94527 |  6:00:16s\n",
      "epoch 319| loss: 0.16151 | train_accuracy: 0.96323 | valid_accuracy: 0.94686 |  6:01:27s\n",
      "epoch 320| loss: 0.162   | train_accuracy: 0.96199 | valid_accuracy: 0.94594 |  6:02:39s\n",
      "epoch 321| loss: 0.16135 | train_accuracy: 0.96204 | valid_accuracy: 0.94542 |  6:03:52s\n",
      "epoch 322| loss: 0.16273 | train_accuracy: 0.9613  | valid_accuracy: 0.94476 |  6:05:02s\n",
      "epoch 323| loss: 0.16283 | train_accuracy: 0.96156 | valid_accuracy: 0.945   |  6:06:12s\n",
      "epoch 324| loss: 0.16172 | train_accuracy: 0.96192 | valid_accuracy: 0.94445 |  6:07:23s\n",
      "epoch 325| loss: 0.16244 | train_accuracy: 0.96233 | valid_accuracy: 0.94553 |  6:08:31s\n",
      "epoch 326| loss: 0.16246 | train_accuracy: 0.96288 | valid_accuracy: 0.94528 |  6:09:40s\n",
      "epoch 327| loss: 0.1623  | train_accuracy: 0.9613  | valid_accuracy: 0.94387 |  6:10:48s\n",
      "epoch 328| loss: 0.16293 | train_accuracy: 0.9627  | valid_accuracy: 0.94614 |  6:11:55s\n",
      "epoch 329| loss: 0.16054 | train_accuracy: 0.96171 | valid_accuracy: 0.94515 |  6:13:02s\n",
      "epoch 330| loss: 0.16272 | train_accuracy: 0.95572 | valid_accuracy: 0.93849 |  6:14:09s\n",
      "epoch 331| loss: 0.16578 | train_accuracy: 0.96106 | valid_accuracy: 0.94411 |  6:15:15s\n",
      "epoch 332| loss: 0.16198 | train_accuracy: 0.96073 | valid_accuracy: 0.94438 |  6:16:22s\n",
      "epoch 333| loss: 0.16193 | train_accuracy: 0.96312 | valid_accuracy: 0.94629 |  6:17:29s\n",
      "epoch 334| loss: 0.16279 | train_accuracy: 0.96382 | valid_accuracy: 0.94648 |  6:18:37s\n",
      "epoch 335| loss: 0.16225 | train_accuracy: 0.96456 | valid_accuracy: 0.94684 |  6:19:45s\n",
      "epoch 336| loss: 0.16763 | train_accuracy: 0.96083 | valid_accuracy: 0.94297 |  6:20:54s\n",
      "epoch 337| loss: 0.16338 | train_accuracy: 0.96437 | valid_accuracy: 0.94684 |  6:22:02s\n",
      "epoch 338| loss: 0.16173 | train_accuracy: 0.96429 | valid_accuracy: 0.94757 |  6:23:09s\n",
      "epoch 339| loss: 0.1614  | train_accuracy: 0.96313 | valid_accuracy: 0.9472  |  6:24:18s\n",
      "epoch 340| loss: 0.16073 | train_accuracy: 0.9631  | valid_accuracy: 0.94615 |  6:25:26s\n",
      "epoch 341| loss: 0.16011 | train_accuracy: 0.96176 | valid_accuracy: 0.9447  |  6:26:33s\n",
      "epoch 342| loss: 0.15939 | train_accuracy: 0.96431 | valid_accuracy: 0.9471  |  6:27:41s\n",
      "epoch 343| loss: 0.16118 | train_accuracy: 0.96526 | valid_accuracy: 0.94797 |  6:28:48s\n",
      "epoch 344| loss: 0.15918 | train_accuracy: 0.96375 | valid_accuracy: 0.94647 |  6:29:55s\n",
      "epoch 345| loss: 0.1592  | train_accuracy: 0.96229 | valid_accuracy: 0.94481 |  6:31:01s\n",
      "epoch 346| loss: 0.1606  | train_accuracy: 0.96449 | valid_accuracy: 0.94701 |  6:32:09s\n",
      "epoch 347| loss: 0.16023 | train_accuracy: 0.96433 | valid_accuracy: 0.94691 |  6:33:18s\n",
      "epoch 348| loss: 0.1597  | train_accuracy: 0.96275 | valid_accuracy: 0.94615 |  6:34:26s\n",
      "epoch 349| loss: 0.15941 | train_accuracy: 0.9585  | valid_accuracy: 0.9426  |  6:35:32s\n",
      "epoch 350| loss: 0.16104 | train_accuracy: 0.96327 | valid_accuracy: 0.94597 |  6:36:39s\n",
      "epoch 351| loss: 0.15851 | train_accuracy: 0.95875 | valid_accuracy: 0.94227 |  6:37:47s\n",
      "epoch 352| loss: 0.16078 | train_accuracy: 0.96382 | valid_accuracy: 0.94589 |  6:38:57s\n",
      "epoch 353| loss: 0.15946 | train_accuracy: 0.96288 | valid_accuracy: 0.94514 |  6:40:04s\n",
      "epoch 354| loss: 0.15839 | train_accuracy: 0.96396 | valid_accuracy: 0.94738 |  6:41:13s\n",
      "epoch 355| loss: 0.1614  | train_accuracy: 0.95968 | valid_accuracy: 0.9422  |  6:42:20s\n",
      "epoch 356| loss: 0.16241 | train_accuracy: 0.96305 | valid_accuracy: 0.94615 |  6:43:28s\n",
      "epoch 357| loss: 0.15871 | train_accuracy: 0.96431 | valid_accuracy: 0.94656 |  6:44:36s\n",
      "epoch 358| loss: 0.1599  | train_accuracy: 0.96349 | valid_accuracy: 0.94614 |  6:45:45s\n",
      "epoch 359| loss: 0.15972 | train_accuracy: 0.96561 | valid_accuracy: 0.94813 |  6:46:53s\n",
      "epoch 360| loss: 0.16038 | train_accuracy: 0.96332 | valid_accuracy: 0.94573 |  6:48:01s\n",
      "epoch 361| loss: 0.15962 | train_accuracy: 0.96505 | valid_accuracy: 0.94697 |  6:49:09s\n",
      "epoch 362| loss: 0.15842 | train_accuracy: 0.96522 | valid_accuracy: 0.94751 |  6:50:18s\n",
      "epoch 363| loss: 0.16165 | train_accuracy: 0.963   | valid_accuracy: 0.94592 |  6:51:27s\n",
      "epoch 364| loss: 0.15811 | train_accuracy: 0.96301 | valid_accuracy: 0.94552 |  6:52:33s\n",
      "epoch 365| loss: 0.1607  | train_accuracy: 0.96226 | valid_accuracy: 0.94497 |  6:53:38s\n",
      "epoch 366| loss: 0.15968 | train_accuracy: 0.96533 | valid_accuracy: 0.94844 |  6:54:43s\n",
      "epoch 367| loss: 0.15652 | train_accuracy: 0.96474 | valid_accuracy: 0.94718 |  6:55:50s\n",
      "epoch 368| loss: 0.15776 | train_accuracy: 0.96282 | valid_accuracy: 0.94562 |  6:56:57s\n",
      "epoch 369| loss: 0.15752 | train_accuracy: 0.96016 | valid_accuracy: 0.94287 |  6:58:04s\n",
      "epoch 370| loss: 0.16061 | train_accuracy: 0.95963 | valid_accuracy: 0.94291 |  6:59:11s\n",
      "epoch 371| loss: 0.1597  | train_accuracy: 0.96354 | valid_accuracy: 0.94615 |  7:00:17s\n"
     ]
    },
    {
     "name": "stdout",
     "output_type": "stream",
     "text": [
      "epoch 372| loss: 0.15864 | train_accuracy: 0.96509 | valid_accuracy: 0.94776 |  7:01:24s\n",
      "epoch 373| loss: 0.15673 | train_accuracy: 0.96369 | valid_accuracy: 0.94604 |  7:02:34s\n",
      "epoch 374| loss: 0.15743 | train_accuracy: 0.96295 | valid_accuracy: 0.94582 |  7:03:45s\n",
      "epoch 375| loss: 0.15887 | train_accuracy: 0.96474 | valid_accuracy: 0.94714 |  7:04:57s\n",
      "epoch 376| loss: 0.15828 | train_accuracy: 0.95993 | valid_accuracy: 0.94231 |  7:06:08s\n",
      "epoch 377| loss: 0.15772 | train_accuracy: 0.96418 | valid_accuracy: 0.94731 |  7:07:20s\n",
      "epoch 378| loss: 0.1593  | train_accuracy: 0.96553 | valid_accuracy: 0.94717 |  7:08:30s\n",
      "epoch 379| loss: 0.15794 | train_accuracy: 0.96422 | valid_accuracy: 0.94671 |  7:09:42s\n",
      "epoch 380| loss: 0.15703 | train_accuracy: 0.96653 | valid_accuracy: 0.94933 |  7:10:54s\n",
      "epoch 381| loss: 0.15884 | train_accuracy: 0.96413 | valid_accuracy: 0.94718 |  7:12:05s\n",
      "epoch 382| loss: 0.15647 | train_accuracy: 0.96232 | valid_accuracy: 0.94442 |  7:13:17s\n",
      "epoch 383| loss: 0.15643 | train_accuracy: 0.96313 | valid_accuracy: 0.94531 |  7:14:26s\n",
      "epoch 384| loss: 0.15757 | train_accuracy: 0.96509 | valid_accuracy: 0.94654 |  7:15:34s\n",
      "epoch 385| loss: 0.15572 | train_accuracy: 0.96652 | valid_accuracy: 0.94915 |  7:16:42s\n",
      "epoch 386| loss: 0.15528 | train_accuracy: 0.96451 | valid_accuracy: 0.94692 |  7:17:52s\n",
      "epoch 387| loss: 0.15614 | train_accuracy: 0.9641  | valid_accuracy: 0.94689 |  7:19:00s\n",
      "epoch 388| loss: 0.15755 | train_accuracy: 0.96324 | valid_accuracy: 0.94511 |  7:20:08s\n",
      "epoch 389| loss: 0.15744 | train_accuracy: 0.96346 | valid_accuracy: 0.94577 |  7:21:17s\n",
      "epoch 390| loss: 0.15787 | train_accuracy: 0.96668 | valid_accuracy: 0.94901 |  7:22:28s\n",
      "epoch 391| loss: 0.15697 | train_accuracy: 0.96425 | valid_accuracy: 0.94657 |  7:23:39s\n",
      "epoch 392| loss: 0.15713 | train_accuracy: 0.96527 | valid_accuracy: 0.94785 |  7:24:50s\n",
      "epoch 393| loss: 0.15735 | train_accuracy: 0.96368 | valid_accuracy: 0.9455  |  7:26:00s\n",
      "epoch 394| loss: 0.15644 | train_accuracy: 0.96665 | valid_accuracy: 0.94892 |  7:27:12s\n",
      "epoch 395| loss: 0.15633 | train_accuracy: 0.96515 | valid_accuracy: 0.94742 |  7:28:23s\n",
      "epoch 396| loss: 0.15601 | train_accuracy: 0.96514 | valid_accuracy: 0.9477  |  7:29:36s\n",
      "epoch 397| loss: 0.15561 | train_accuracy: 0.96622 | valid_accuracy: 0.94884 |  7:30:47s\n",
      "epoch 398| loss: 0.15545 | train_accuracy: 0.96515 | valid_accuracy: 0.94729 |  7:31:52s\n",
      "epoch 399| loss: 0.15554 | train_accuracy: 0.96157 | valid_accuracy: 0.94498 |  7:33:00s\n",
      "epoch 400| loss: 0.15475 | train_accuracy: 0.96583 | valid_accuracy: 0.94781 |  7:34:06s\n",
      "epoch 401| loss: 0.15491 | train_accuracy: 0.96563 | valid_accuracy: 0.94781 |  7:35:12s\n",
      "epoch 402| loss: 0.15463 | train_accuracy: 0.96464 | valid_accuracy: 0.94653 |  7:36:18s\n",
      "epoch 403| loss: 0.15513 | train_accuracy: 0.96637 | valid_accuracy: 0.94814 |  7:37:25s\n",
      "epoch 404| loss: 0.1551  | train_accuracy: 0.96652 | valid_accuracy: 0.9483  |  7:38:32s\n",
      "epoch 405| loss: 0.15465 | train_accuracy: 0.96622 | valid_accuracy: 0.94795 |  7:39:38s\n",
      "epoch 406| loss: 0.15546 | train_accuracy: 0.96467 | valid_accuracy: 0.94702 |  7:40:44s\n",
      "epoch 407| loss: 0.15554 | train_accuracy: 0.96403 | valid_accuracy: 0.9464  |  7:41:51s\n",
      "epoch 408| loss: 0.15742 | train_accuracy: 0.96558 | valid_accuracy: 0.94733 |  7:42:57s\n",
      "epoch 409| loss: 0.15416 | train_accuracy: 0.96585 | valid_accuracy: 0.94842 |  7:44:05s\n",
      "epoch 410| loss: 0.15462 | train_accuracy: 0.96614 | valid_accuracy: 0.94836 |  7:45:13s\n",
      "epoch 411| loss: 0.1549  | train_accuracy: 0.96453 | valid_accuracy: 0.94669 |  7:46:20s\n",
      "epoch 412| loss: 0.15437 | train_accuracy: 0.96497 | valid_accuracy: 0.94737 |  7:47:28s\n",
      "epoch 413| loss: 0.15352 | train_accuracy: 0.96704 | valid_accuracy: 0.94876 |  7:48:35s\n",
      "epoch 414| loss: 0.1541  | train_accuracy: 0.96559 | valid_accuracy: 0.94744 |  7:49:43s\n",
      "epoch 415| loss: 0.15392 | train_accuracy: 0.96539 | valid_accuracy: 0.94819 |  7:50:51s\n",
      "epoch 416| loss: 0.15536 | train_accuracy: 0.96348 | valid_accuracy: 0.94563 |  7:52:01s\n",
      "epoch 417| loss: 0.15391 | train_accuracy: 0.9662  | valid_accuracy: 0.94776 |  7:53:09s\n",
      "epoch 418| loss: 0.15479 | train_accuracy: 0.96532 | valid_accuracy: 0.9474  |  7:54:17s\n",
      "epoch 419| loss: 0.15456 | train_accuracy: 0.96512 | valid_accuracy: 0.94757 |  7:55:25s\n",
      "epoch 420| loss: 0.1535  | train_accuracy: 0.96661 | valid_accuracy: 0.94873 |  7:56:33s\n",
      "epoch 421| loss: 0.15349 | train_accuracy: 0.96582 | valid_accuracy: 0.94799 |  7:57:40s\n",
      "epoch 422| loss: 0.154   | train_accuracy: 0.96527 | valid_accuracy: 0.9478  |  7:58:47s\n",
      "epoch 423| loss: 0.15414 | train_accuracy: 0.96772 | valid_accuracy: 0.9493  |  7:59:56s\n",
      "epoch 424| loss: 0.15403 | train_accuracy: 0.96297 | valid_accuracy: 0.94539 |  8:01:03s\n",
      "epoch 425| loss: 0.15296 | train_accuracy: 0.96591 | valid_accuracy: 0.94816 |  8:03:10s\n",
      "epoch 426| loss: 0.1535  | train_accuracy: 0.96535 | valid_accuracy: 0.94749 |  8:05:41s\n",
      "epoch 427| loss: 0.15325 | train_accuracy: 0.96663 | valid_accuracy: 0.94867 |  8:08:13s\n",
      "epoch 428| loss: 0.15137 | train_accuracy: 0.96497 | valid_accuracy: 0.94748 |  8:10:42s\n",
      "epoch 429| loss: 0.15609 | train_accuracy: 0.96594 | valid_accuracy: 0.9481  |  8:13:13s\n",
      "epoch 430| loss: 0.15521 | train_accuracy: 0.96784 | valid_accuracy: 0.94995 |  8:15:42s\n",
      "epoch 431| loss: 0.15248 | train_accuracy: 0.96779 | valid_accuracy: 0.94995 |  8:18:12s\n",
      "epoch 432| loss: 0.15324 | train_accuracy: 0.96425 | valid_accuracy: 0.94686 |  8:20:42s\n",
      "epoch 433| loss: 0.1533  | train_accuracy: 0.96531 | valid_accuracy: 0.94793 |  8:23:13s\n",
      "epoch 434| loss: 0.15232 | train_accuracy: 0.96662 | valid_accuracy: 0.94879 |  8:25:45s\n",
      "epoch 435| loss: 0.15106 | train_accuracy: 0.96622 | valid_accuracy: 0.9471  |  8:28:15s\n",
      "epoch 436| loss: 0.15268 | train_accuracy: 0.96812 | valid_accuracy: 0.94986 |  8:30:44s\n",
      "epoch 437| loss: 0.15326 | train_accuracy: 0.96675 | valid_accuracy: 0.9489  |  8:33:14s\n",
      "epoch 438| loss: 0.15351 | train_accuracy: 0.96767 | valid_accuracy: 0.94867 |  8:35:45s\n",
      "epoch 439| loss: 0.15158 | train_accuracy: 0.96636 | valid_accuracy: 0.9481  |  8:38:16s\n",
      "epoch 440| loss: 0.15313 | train_accuracy: 0.96588 | valid_accuracy: 0.94751 |  8:40:45s\n",
      "epoch 441| loss: 0.1528  | train_accuracy: 0.96661 | valid_accuracy: 0.94871 |  8:43:15s\n",
      "epoch 442| loss: 0.1526  | train_accuracy: 0.96687 | valid_accuracy: 0.94895 |  8:45:45s\n",
      "epoch 443| loss: 0.15122 | train_accuracy: 0.96612 | valid_accuracy: 0.94724 |  8:48:15s\n",
      "epoch 444| loss: 0.15155 | train_accuracy: 0.9674  | valid_accuracy: 0.94893 |  8:50:46s\n",
      "epoch 445| loss: 0.15121 | train_accuracy: 0.9634  | valid_accuracy: 0.94593 |  8:53:22s\n",
      "epoch 446| loss: 0.15188 | train_accuracy: 0.96242 | valid_accuracy: 0.94493 |  8:55:57s\n",
      "epoch 447| loss: 0.15338 | train_accuracy: 0.96622 | valid_accuracy: 0.94781 |  8:58:33s\n",
      "epoch 448| loss: 0.15155 | train_accuracy: 0.96673 | valid_accuracy: 0.94913 |  9:01:09s\n",
      "epoch 449| loss: 0.15071 | train_accuracy: 0.96625 | valid_accuracy: 0.94782 |  9:03:45s\n",
      "epoch 450| loss: 0.15273 | train_accuracy: 0.96506 | valid_accuracy: 0.94734 |  9:06:21s\n",
      "epoch 451| loss: 0.15109 | train_accuracy: 0.96789 | valid_accuracy: 0.94906 |  9:08:58s\n",
      "epoch 452| loss: 0.15098 | train_accuracy: 0.96649 | valid_accuracy: 0.94852 |  9:11:35s\n",
      "epoch 453| loss: 0.15091 | train_accuracy: 0.96503 | valid_accuracy: 0.94777 |  9:14:11s\n",
      "epoch 454| loss: 0.15204 | train_accuracy: 0.963   | valid_accuracy: 0.94532 |  9:16:48s\n",
      "epoch 455| loss: 0.15084 | train_accuracy: 0.96651 | valid_accuracy: 0.94828 |  9:19:25s\n",
      "epoch 456| loss: 0.15205 | train_accuracy: 0.96502 | valid_accuracy: 0.94617 |  9:22:02s\n",
      "epoch 457| loss: 0.15106 | train_accuracy: 0.96528 | valid_accuracy: 0.94733 |  9:24:38s\n",
      "epoch 458| loss: 0.15103 | train_accuracy: 0.96736 | valid_accuracy: 0.94956 |  9:27:16s\n",
      "epoch 459| loss: 0.14923 | train_accuracy: 0.96647 | valid_accuracy: 0.94786 |  9:29:52s\n",
      "epoch 460| loss: 0.15029 | train_accuracy: 0.96807 | valid_accuracy: 0.95029 |  9:32:29s\n",
      "epoch 461| loss: 0.1509  | train_accuracy: 0.96803 | valid_accuracy: 0.95012 |  9:35:05s\n",
      "epoch 462| loss: 0.15012 | train_accuracy: 0.96691 | valid_accuracy: 0.94865 |  9:37:41s\n",
      "epoch 463| loss: 0.1539  | train_accuracy: 0.96686 | valid_accuracy: 0.94891 |  9:40:17s\n",
      "epoch 464| loss: 0.15042 | train_accuracy: 0.96606 | valid_accuracy: 0.94779 |  9:42:53s\n"
     ]
    },
    {
     "name": "stdout",
     "output_type": "stream",
     "text": [
      "epoch 465| loss: 0.14999 | train_accuracy: 0.96638 | valid_accuracy: 0.94886 |  9:45:29s\n",
      "epoch 466| loss: 0.14916 | train_accuracy: 0.96722 | valid_accuracy: 0.9487  |  9:48:05s\n",
      "epoch 467| loss: 0.1509  | train_accuracy: 0.96907 | valid_accuracy: 0.95014 |  9:50:40s\n",
      "epoch 468| loss: 0.14865 | train_accuracy: 0.96508 | valid_accuracy: 0.9474  |  9:53:17s\n",
      "epoch 469| loss: 0.14994 | train_accuracy: 0.96637 | valid_accuracy: 0.94841 |  9:55:53s\n",
      "epoch 470| loss: 0.15127 | train_accuracy: 0.96683 | valid_accuracy: 0.94902 |  9:58:29s\n",
      "epoch 471| loss: 0.15077 | train_accuracy: 0.96742 | valid_accuracy: 0.94893 |  10:01:05s\n",
      "epoch 472| loss: 0.14983 | train_accuracy: 0.96548 | valid_accuracy: 0.94715 |  10:03:41s\n",
      "epoch 473| loss: 0.15037 | train_accuracy: 0.96409 | valid_accuracy: 0.94627 |  10:06:07s\n",
      "epoch 474| loss: 0.15172 | train_accuracy: 0.96765 | valid_accuracy: 0.94906 |  10:07:15s\n",
      "epoch 475| loss: 0.14934 | train_accuracy: 0.96643 | valid_accuracy: 0.94809 |  10:08:24s\n",
      "epoch 476| loss: 0.15079 | train_accuracy: 0.96464 | valid_accuracy: 0.94645 |  10:09:33s\n",
      "epoch 477| loss: 0.15001 | train_accuracy: 0.96826 | valid_accuracy: 0.94968 |  10:10:41s\n",
      "epoch 478| loss: 0.15046 | train_accuracy: 0.96781 | valid_accuracy: 0.94928 |  10:11:49s\n",
      "epoch 479| loss: 0.14915 | train_accuracy: 0.96674 | valid_accuracy: 0.94842 |  10:12:58s\n",
      "epoch 480| loss: 0.14984 | train_accuracy: 0.96791 | valid_accuracy: 0.94874 |  10:14:06s\n",
      "epoch 481| loss: 0.14831 | train_accuracy: 0.96561 | valid_accuracy: 0.94771 |  10:15:14s\n",
      "epoch 482| loss: 0.14977 | train_accuracy: 0.96626 | valid_accuracy: 0.94713 |  10:16:22s\n",
      "epoch 483| loss: 0.14896 | train_accuracy: 0.96578 | valid_accuracy: 0.94752 |  10:17:31s\n",
      "epoch 484| loss: 0.15008 | train_accuracy: 0.96743 | valid_accuracy: 0.94832 |  10:18:40s\n",
      "epoch 485| loss: 0.14959 | train_accuracy: 0.9657  | valid_accuracy: 0.94781 |  10:19:48s\n",
      "epoch 486| loss: 0.14759 | train_accuracy: 0.96887 | valid_accuracy: 0.95035 |  10:20:57s\n",
      "epoch 487| loss: 0.14882 | train_accuracy: 0.96751 | valid_accuracy: 0.94959 |  10:22:06s\n",
      "epoch 488| loss: 0.14974 | train_accuracy: 0.96887 | valid_accuracy: 0.95069 |  10:23:14s\n",
      "epoch 489| loss: 0.14845 | train_accuracy: 0.96625 | valid_accuracy: 0.94893 |  10:24:23s\n",
      "epoch 490| loss: 0.14853 | train_accuracy: 0.96652 | valid_accuracy: 0.94821 |  10:25:31s\n",
      "epoch 491| loss: 0.1486  | train_accuracy: 0.9682  | valid_accuracy: 0.94979 |  10:26:39s\n",
      "epoch 492| loss: 0.15024 | train_accuracy: 0.96799 | valid_accuracy: 0.94911 |  10:27:46s\n",
      "epoch 493| loss: 0.14815 | train_accuracy: 0.9672  | valid_accuracy: 0.94852 |  10:28:54s\n",
      "epoch 494| loss: 0.15114 | train_accuracy: 0.9685  | valid_accuracy: 0.95079 |  10:30:02s\n",
      "epoch 495| loss: 0.14886 | train_accuracy: 0.96862 | valid_accuracy: 0.94988 |  10:31:10s\n",
      "epoch 496| loss: 0.14897 | train_accuracy: 0.97023 | valid_accuracy: 0.95174 |  10:32:17s\n",
      "epoch 497| loss: 0.14877 | train_accuracy: 0.96524 | valid_accuracy: 0.94773 |  10:33:25s\n",
      "epoch 498| loss: 0.14856 | train_accuracy: 0.96717 | valid_accuracy: 0.94873 |  10:34:33s\n",
      "epoch 499| loss: 0.14874 | train_accuracy: 0.96626 | valid_accuracy: 0.94786 |  10:35:42s\n",
      "Stop training because you reached max_epochs = 500 with best_epoch = 496 and best_valid_accuracy = 0.95174\n",
      "Best weights from best epoch are automatically used!\n"
     ]
    }
   ],
   "source": [
    "clf.fit(\n",
    "    X_train=X_train, y_train=y_train,\n",
    "    eval_set=[(X_train, y_train), (X_valid, y_valid)],\n",
    "    eval_name=['train', 'valid'],\n",
    "    max_epochs=max_epochs, patience=100,\n",
    "    batch_size=1024, virtual_batch_size=64\n",
    ") "
   ]
  },
  {
   "cell_type": "code",
   "execution_count": 14,
   "metadata": {},
   "outputs": [
    {
     "data": {
      "text/plain": [
       "[<matplotlib.lines.Line2D at 0x1f0715f18b0>]"
      ]
     },
     "execution_count": 14,
     "metadata": {},
     "output_type": "execute_result"
    },
    {
     "data": {
      "image/png": "[encoded data removed]",
      "text/plain": [
       "<Figure size 432x288 with 1 Axes>"
      ]
     },
     "metadata": {
      "needs_background": "light"
     },
     "output_type": "display_data"
    }
   ],
   "source": [
    "# plot losses\n",
    "plt.plot(clf.history['loss'])"
   ]
  },
  {
   "cell_type": "code",
   "execution_count": 15,
   "metadata": {},
   "outputs": [
    {
     "data": {
      "text/plain": [
       "[<matplotlib.lines.Line2D at 0x1f0bdb5a6a0>]"
      ]
     },
     "execution_count": 15,
     "metadata": {},
     "output_type": "execute_result"
    },
    {
     "data": {
      "image/png": "[encoded data removed]",
      "text/plain": [
       "<Figure size 432x288 with 1 Axes>"
      ]
     },
     "metadata": {
      "needs_background": "light"
     },
     "output_type": "display_data"
    }
   ],
   "source": [
    "# plot accuracy\n",
    "plt.plot(clf.history['train_accuracy'])\n",
    "plt.plot(clf.history['valid_accuracy'])"
   ]
  },
  {
   "cell_type": "markdown",
   "metadata": {},
   "source": [
    "### Predictions"
   ]
  },
  {
   "cell_type": "code",
   "execution_count": 16,
   "metadata": {},
   "outputs": [
    {
     "name": "stdout",
     "output_type": "stream",
     "text": [
      "BEST VALID SCORE FOR forest-cover-type : 0.9517416756488121\n",
      "FINAL TEST SCORE FOR forest-cover-type : 0.95328003579942\n"
     ]
    }
   ],
   "source": [
    "# To get final results you may need to use a mapping for classes \n",
    "# as you are allowed to use targets like [\"yes\", \"no\", \"maybe\", \"I don't know\"]\n",
    "\n",
    "preds_mapper = { idx : class_name for idx, class_name in enumerate(clf.classes_)}\n",
    "\n",
    "preds = clf.predict_proba(X_test)\n",
    "\n",
    "y_pred = np.vectorize(preds_mapper.get)(np.argmax(preds, axis=1))\n",
    "\n",
    "test_acc = accuracy_score(y_pred=y_pred, y_true=y_test)\n",
    "\n",
    "print(f\"BEST VALID SCORE FOR {dataset_name} : {clf.best_cost}\")\n",
    "print(f\"FINAL TEST SCORE FOR {dataset_name} : {test_acc}\")"
   ]
  },
  {
   "cell_type": "code",
   "execution_count": 17,
   "metadata": {},
   "outputs": [
    {
     "name": "stdout",
     "output_type": "stream",
     "text": [
      "FINAL TEST SCORE FOR forest-cover-type : 0.95328003579942\n"
     ]
    }
   ],
   "source": [
    "# or you can simply use the predict method\n",
    "\n",
    "y_pred = clf.predict(X_test)\n",
    "test_acc = accuracy_score(y_pred=y_pred, y_true=y_test)\n",
    "print(f\"FINAL TEST SCORE FOR {dataset_name} : {test_acc}\")"
   ]
  },
  {
   "cell_type": "markdown",
   "metadata": {},
   "source": [
    "# Save and load Model"
   ]
  },
  {
   "cell_type": "code",
   "execution_count": 18,
   "metadata": {},
   "outputs": [
    {
     "name": "stdout",
     "output_type": "stream",
     "text": [
      "Successfully saved model at test_model.zip\n"
     ]
    }
   ],
   "source": [
    "# save state dict\n",
    "saved_filename = clf.save_model('test_model')"
   ]
  },
  {
   "cell_type": "code",
   "execution_count": 19,
   "metadata": {},
   "outputs": [
    {
     "name": "stdout",
     "output_type": "stream",
     "text": [
      "Device used : cuda\n",
      "Device used : cuda\n"
     ]
    }
   ],
   "source": [
    "# define new model and load save parameters\n",
    "loaded_clf = TabNetClassifier()\n",
    "loaded_clf.load_model(saved_filename)"
   ]
  },
  {
   "cell_type": "code",
   "execution_count": 20,
   "metadata": {},
   "outputs": [
    {
     "name": "stdout",
     "output_type": "stream",
     "text": [
      "FINAL TEST SCORE FOR forest-cover-type : 0.95328003579942\n"
     ]
    }
   ],
   "source": [
    "loaded_preds = loaded_clf.predict_proba(X_test)\n",
    "loaded_y_pred = np.vectorize(preds_mapper.get)(np.argmax(loaded_preds, axis=1))\n",
    "\n",
    "loaded_test_acc = accuracy_score(y_pred=loaded_y_pred, y_true=y_test)\n",
    "\n",
    "print(f\"FINAL TEST SCORE FOR {dataset_name} : {loaded_test_acc}\")"
   ]
  },
  {
   "cell_type": "code",
   "execution_count": 21,
   "metadata": {},
   "outputs": [],
   "source": [
    "assert(test_acc == loaded_test_acc)"
   ]
  },
  {
   "cell_type": "markdown",
   "metadata": {},
   "source": [
    "# Global explainability : feat importance summing to 1"
   ]
  },
  {
   "cell_type": "code",
   "execution_count": 22,
   "metadata": {},
   "outputs": [
    {
     "data": {
      "text/plain": [
       "array([1.86089399e-01, 0.00000000e+00, 0.00000000e+00, 2.78212586e-08,\n",
       "       4.80239382e-02, 1.49811623e-01, 8.29205110e-02, 8.69922247e-03,\n",
       "       0.00000000e+00, 0.00000000e+00, 2.32432886e-02, 0.00000000e+00,\n",
       "       0.00000000e+00, 0.00000000e+00, 0.00000000e+00, 0.00000000e+00,\n",
       "       0.00000000e+00, 0.00000000e+00, 0.00000000e+00, 0.00000000e+00,\n",
       "       0.00000000e+00, 0.00000000e+00, 0.00000000e+00, 0.00000000e+00,\n",
       "       0.00000000e+00, 7.19636554e-03, 0.00000000e+00, 0.00000000e+00,\n",
       "       9.15181515e-02, 0.00000000e+00, 0.00000000e+00, 1.42095954e-01,\n",
       "       0.00000000e+00, 0.00000000e+00, 1.16707975e-03, 0.00000000e+00,\n",
       "       0.00000000e+00, 0.00000000e+00, 0.00000000e+00, 0.00000000e+00,\n",
       "       0.00000000e+00, 0.00000000e+00, 0.00000000e+00, 0.00000000e+00,\n",
       "       0.00000000e+00, 0.00000000e+00, 0.00000000e+00, 0.00000000e+00,\n",
       "       0.00000000e+00, 1.53749623e-01, 0.00000000e+00, 1.05484816e-01,\n",
       "       0.00000000e+00, 0.00000000e+00])"
      ]
     },
     "execution_count": 22,
     "metadata": {},
     "output_type": "execute_result"
    }
   ],
   "source": [
    "clf.feature_importances_"
   ]
  },
  {
   "cell_type": "markdown",
   "metadata": {},
   "source": [
    "# Local explainability and masks"
   ]
  },
  {
   "cell_type": "code",
   "execution_count": 23,
   "metadata": {},
   "outputs": [],
   "source": [
    "explain_matrix, masks = clf.explain(X_test)"
   ]
  },
  {
   "cell_type": "code",
   "execution_count": 24,
   "metadata": {},
   "outputs": [
    {
     "data": {
      "image/png": "[encoded data removed]",
      "text/plain": [
       "<Figure size 1440x1440 with 5 Axes>"
      ]
     },
     "metadata": {
      "needs_background": "light"
     },
     "output_type": "display_data"
    }
   ],
   "source": [
    "fig, axs = plt.subplots(1, 5, figsize=(20,20))\n",
    "\n",
    "for i in range(5):\n",
    "    axs[i].imshow(masks[i][:50])\n",
    "    axs[i].set_title(f\"mask {i}\")"
   ]
  },
  {
   "cell_type": "markdown",
   "metadata": {},
   "source": [
    "# XGB"
   ]
  },
  {
   "cell_type": "code",
   "execution_count": 25,
   "metadata": {},
   "outputs": [],
   "source": [
    "n_estimators = 1000 if not os.getenv(\"CI\", False) else 20"
   ]
  },
  {
   "cell_type": "code",
   "execution_count": 26,
   "metadata": {
    "scrolled": true
   },
   "outputs": [
    {
     "name": "stderr",
     "output_type": "stream",
     "text": [
      "D:\\Anaconda\\envs\\book-develop\\lib\\site-packages\\xgboost\\sklearn.py:1146: UserWarning: The use of label encoder in XGBClassifier is deprecated and will be removed in a future release. To remove this warning, do the following: 1) Pass option use_label_encoder=False when constructing XGBClassifier object; and 2) Encode your labels (y) as integers starting with 0, i.e. 0, 1, 2, ..., [num_class - 1].\n",
      "  warnings.warn(label_encoder_deprecation_msg, UserWarning)\n"
     ]
    },
    {
     "name": "stdout",
     "output_type": "stream",
     "text": [
      "[0]\tvalidation_0-mlogloss:1.74260\n",
      "[10]\tvalidation_0-mlogloss:0.90294\n",
      "[20]\tvalidation_0-mlogloss:0.63492\n",
      "[30]\tvalidation_0-mlogloss:0.52129\n",
      "[40]\tvalidation_0-mlogloss:0.46316\n",
      "[50]\tvalidation_0-mlogloss:0.42549\n",
      "[60]\tvalidation_0-mlogloss:0.40175\n",
      "[70]\tvalidation_0-mlogloss:0.38531\n",
      "[80]\tvalidation_0-mlogloss:0.37286\n",
      "[90]\tvalidation_0-mlogloss:0.36102\n",
      "[100]\tvalidation_0-mlogloss:0.34975\n",
      "[110]\tvalidation_0-mlogloss:0.33909\n",
      "[120]\tvalidation_0-mlogloss:0.32853\n",
      "[130]\tvalidation_0-mlogloss:0.32014\n",
      "[140]\tvalidation_0-mlogloss:0.31275\n",
      "[150]\tvalidation_0-mlogloss:0.30271\n",
      "[160]\tvalidation_0-mlogloss:0.29446\n",
      "[170]\tvalidation_0-mlogloss:0.28664\n",
      "[180]\tvalidation_0-mlogloss:0.27811\n",
      "[190]\tvalidation_0-mlogloss:0.26911\n",
      "[200]\tvalidation_0-mlogloss:0.26338\n",
      "[210]\tvalidation_0-mlogloss:0.25701\n",
      "[220]\tvalidation_0-mlogloss:0.25125\n",
      "[230]\tvalidation_0-mlogloss:0.24481\n",
      "[240]\tvalidation_0-mlogloss:0.23912\n",
      "[250]\tvalidation_0-mlogloss:0.23402\n",
      "[260]\tvalidation_0-mlogloss:0.22921\n",
      "[270]\tvalidation_0-mlogloss:0.22371\n",
      "[280]\tvalidation_0-mlogloss:0.21917\n",
      "[290]\tvalidation_0-mlogloss:0.21465\n",
      "[300]\tvalidation_0-mlogloss:0.21074\n",
      "[310]\tvalidation_0-mlogloss:0.20708\n",
      "[320]\tvalidation_0-mlogloss:0.20382\n",
      "[330]\tvalidation_0-mlogloss:0.19982\n",
      "[340]\tvalidation_0-mlogloss:0.19704\n",
      "[350]\tvalidation_0-mlogloss:0.19353\n",
      "[360]\tvalidation_0-mlogloss:0.19003\n",
      "[370]\tvalidation_0-mlogloss:0.18707\n",
      "[380]\tvalidation_0-mlogloss:0.18454\n",
      "[390]\tvalidation_0-mlogloss:0.18173\n",
      "[400]\tvalidation_0-mlogloss:0.17941\n",
      "[410]\tvalidation_0-mlogloss:0.17630\n",
      "[420]\tvalidation_0-mlogloss:0.17411\n",
      "[430]\tvalidation_0-mlogloss:0.17129\n",
      "[440]\tvalidation_0-mlogloss:0.16909\n",
      "[450]\tvalidation_0-mlogloss:0.16698\n",
      "[460]\tvalidation_0-mlogloss:0.16509\n",
      "[470]\tvalidation_0-mlogloss:0.16317\n",
      "[480]\tvalidation_0-mlogloss:0.16129\n",
      "[490]\tvalidation_0-mlogloss:0.15947\n",
      "[500]\tvalidation_0-mlogloss:0.15751\n",
      "[510]\tvalidation_0-mlogloss:0.15591\n",
      "[520]\tvalidation_0-mlogloss:0.15441\n",
      "[530]\tvalidation_0-mlogloss:0.15274\n",
      "[540]\tvalidation_0-mlogloss:0.15120\n",
      "[550]\tvalidation_0-mlogloss:0.14976\n",
      "[560]\tvalidation_0-mlogloss:0.14854\n",
      "[570]\tvalidation_0-mlogloss:0.14737\n",
      "[580]\tvalidation_0-mlogloss:0.14626\n",
      "[590]\tvalidation_0-mlogloss:0.14510\n",
      "[600]\tvalidation_0-mlogloss:0.14366\n",
      "[610]\tvalidation_0-mlogloss:0.14244\n",
      "[620]\tvalidation_0-mlogloss:0.14099\n",
      "[630]\tvalidation_0-mlogloss:0.13983\n",
      "[640]\tvalidation_0-mlogloss:0.13871\n",
      "[650]\tvalidation_0-mlogloss:0.13752\n",
      "[660]\tvalidation_0-mlogloss:0.13630\n",
      "[670]\tvalidation_0-mlogloss:0.13542\n",
      "[680]\tvalidation_0-mlogloss:0.13465\n",
      "[690]\tvalidation_0-mlogloss:0.13373\n",
      "[700]\tvalidation_0-mlogloss:0.13301\n",
      "[710]\tvalidation_0-mlogloss:0.13221\n",
      "[720]\tvalidation_0-mlogloss:0.13139\n",
      "[730]\tvalidation_0-mlogloss:0.13061\n",
      "[740]\tvalidation_0-mlogloss:0.12988\n",
      "[750]\tvalidation_0-mlogloss:0.12908\n",
      "[760]\tvalidation_0-mlogloss:0.12828\n",
      "[770]\tvalidation_0-mlogloss:0.12750\n",
      "[780]\tvalidation_0-mlogloss:0.12686\n",
      "[790]\tvalidation_0-mlogloss:0.12611\n",
      "[800]\tvalidation_0-mlogloss:0.12529\n",
      "[810]\tvalidation_0-mlogloss:0.12456\n",
      "[820]\tvalidation_0-mlogloss:0.12395\n",
      "[830]\tvalidation_0-mlogloss:0.12335\n",
      "[840]\tvalidation_0-mlogloss:0.12274\n",
      "[850]\tvalidation_0-mlogloss:0.12226\n",
      "[860]\tvalidation_0-mlogloss:0.12173\n",
      "[870]\tvalidation_0-mlogloss:0.12123\n",
      "[880]\tvalidation_0-mlogloss:0.12066\n",
      "[890]\tvalidation_0-mlogloss:0.12012\n",
      "[900]\tvalidation_0-mlogloss:0.11966\n",
      "[910]\tvalidation_0-mlogloss:0.11921\n",
      "[920]\tvalidation_0-mlogloss:0.11879\n",
      "[930]\tvalidation_0-mlogloss:0.11838\n",
      "[940]\tvalidation_0-mlogloss:0.11790\n",
      "[950]\tvalidation_0-mlogloss:0.11750\n",
      "[960]\tvalidation_0-mlogloss:0.11704\n",
      "[970]\tvalidation_0-mlogloss:0.11671\n",
      "[980]\tvalidation_0-mlogloss:0.11634\n",
      "[990]\tvalidation_0-mlogloss:0.11592\n",
      "[999]\tvalidation_0-mlogloss:0.11567\n"
     ]
    },
    {
     "data": {
      "text/plain": [
       "XGBClassifier(base_score=0.5, booster='gbtree', colsample_bylevel=1,\n",
       "              colsample_bynode=1, colsample_bytree=1, gamma=0, gpu_id=-1,\n",
       "              importance_type='gain', interaction_constraints='',\n",
       "              learning_rate=0.1, max_delta_step=0, max_depth=8,\n",
       "              min_child_weight=1, missing=nan, monotone_constraints='()',\n",
       "              n_estimators=1000, n_jobs=-1, nthread=8, num_parallel_tree=1,\n",
       "              objective='multi:softprob', random_state=0, reg_alpha=0,\n",
       "              reg_lambda=1, scale_pos_weight=1, seed=0, silent=None,\n",
       "              subsample=0.7, tree_method='exact', validate_parameters=1,\n",
       "              verbosity=0)"
      ]
     },
     "execution_count": 26,
     "metadata": {},
     "output_type": "execute_result"
    }
   ],
   "source": [
    "from xgboost import XGBClassifier\n",
    "\n",
    "clf_xgb = XGBClassifier(max_depth=8,\n",
    "    learning_rate=0.1,\n",
    "    n_estimators=n_estimators,\n",
    "    verbosity=0,\n",
    "    silent=None,\n",
    "    objective=\"multi:softmax\",\n",
    "    booster='gbtree',\n",
    "    n_jobs=-1,\n",
    "    nthread=None,\n",
    "    gamma=0,\n",
    "    min_child_weight=1,\n",
    "    max_delta_step=0,\n",
    "    subsample=0.7,\n",
    "    colsample_bytree=1,\n",
    "    colsample_bylevel=1,\n",
    "    colsample_bynode=1,\n",
    "    reg_alpha=0,\n",
    "    reg_lambda=1,\n",
    "    scale_pos_weight=1,\n",
    "    base_score=0.5,\n",
    "    random_state=0,\n",
    "    seed=None,)\n",
    "\n",
    "clf_xgb.fit(X_train, y_train,\n",
    "            eval_set=[(X_valid, y_valid)],\n",
    "            early_stopping_rounds=40,\n",
    "            verbose=10)"
   ]
  },
  {
   "cell_type": "code",
   "execution_count": 27,
   "metadata": {},
   "outputs": [
    {
     "name": "stdout",
     "output_type": "stream",
     "text": [
      "0.9589058778729419\n",
      "0.9603452578676971\n"
     ]
    }
   ],
   "source": [
    "preds_valid = np.array(clf_xgb.predict_proba(X_valid, ))\n",
    "valid_acc = accuracy_score(y_pred=np.argmax(preds_valid, axis=1) + 1, y_true=y_valid)\n",
    "print(valid_acc)\n",
    "\n",
    "preds_test = np.array(clf_xgb.predict_proba(X_test))\n",
    "test_acc = accuracy_score(y_pred=np.argmax(preds_test, axis=1) + 1, y_true=y_test)\n",
    "print(test_acc)"
   ]
  },
  {
   "cell_type": "code",
   "execution_count": null,
   "metadata": {},
   "outputs": [],
   "source": []
  }
 ],
 "metadata": {
  "kernelspec": {
   "display_name": "Python 3",
   "language": "python",
   "name": "python3"
  },
  "language_info": {
   "codemirror_mode": {
    "name": "ipython",
    "version": 3
   },
   "file_extension": ".py",
   "mimetype": "text/x-python",
   "name": "python",
   "nbconvert_exporter": "python",
   "pygments_lexer": "ipython3",
   "version": "3.8.10"
  },
  "toc": {
   "base_numbering": 1,
   "nav_menu": {},
   "number_sections": true,
   "sideBar": true,
   "skip_h1_title": false,
   "title_cell": "Table of Contents",
   "title_sidebar": "Contents",
   "toc_cell": false,
   "toc_position": {},
   "toc_section_display": true,
   "toc_window_display": false
  }
 },
 "nbformat": 4,
 "nbformat_minor": 2
}
